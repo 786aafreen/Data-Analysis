{
  "nbformat": 4,
  "nbformat_minor": 0,
  "metadata": {
    "colab": {
      "private_outputs": true,
      "provenance": [],
      "toc_visible": true,
      "authorship_tag": "ABX9TyNLm4/FlUznnPRvAfDuMuXX",
      "include_colab_link": true
    },
    "kernelspec": {
      "name": "python3",
      "display_name": "Python 3"
    },
    "language_info": {
      "name": "python"
    }
  },
  "cells": [
    {
      "cell_type": "markdown",
      "metadata": {
        "id": "view-in-github",
        "colab_type": "text"
      },
      "source": [
        "<a href=\"https://colab.research.google.com/github/786aafreen/Data-Analysis/blob/main/DAta_Analytics_Asssgn_8.ipynb\" target=\"_parent\"><img src=\"https://colab.research.google.com/assets/colab-badge.svg\" alt=\"Open In Colab\"/></a>"
      ]
    },
    {
      "cell_type": "code",
      "execution_count": null,
      "metadata": {
        "id": "0sc0uyNgKoZ1"
      },
      "outputs": [],
      "source": []
    },
    {
      "cell_type": "markdown",
      "source": [
        "For the dataset given\n",
        "\n",
        "1. Comment on the nature of the data using suitable\n",
        "visualization techniques\n",
        "2. Check the stationary using ADF test\n",
        "and autocorrelation plot. \n",
        "3. Forecast the target variable prediction using a suitable\n",
        "type of model.  \n",
        "4. Evaluate the different types of error residues to\n",
        "check fitness of good of the  model.  \n",
        "5. Forecast the predictions for next 5 years on  target variable."
      ],
      "metadata": {
        "id": "_e6TuOTxKpDy"
      }
    },
    {
      "cell_type": "markdown",
      "source": [
        "**Forecasting** is a technique that uses historical data as inputs to make informed estimates that are predictive in determining the direction of future trends. Businesses utilize forecasting to determine how to allocate their budgets or plan for anticipated expenses for an upcoming period of time."
      ],
      "metadata": {
        "id": "GedwqXlbwKab"
      }
    },
    {
      "cell_type": "code",
      "source": [
        "from google.colab import files\n",
        "files.upload()"
      ],
      "metadata": {
        "id": "WbAqJaaUKz9o"
      },
      "execution_count": null,
      "outputs": []
    },
    {
      "cell_type": "code",
      "source": [
        "import pandas as pd"
      ],
      "metadata": {
        "id": "x2Ys7z9bLT6Q"
      },
      "execution_count": null,
      "outputs": []
    },
    {
      "cell_type": "code",
      "source": [
        "df = pd.read_csv('/content/monthly_milk_production (1).csv',  parse_dates = True, squeeze = True)"
      ],
      "metadata": {
        "id": "WrOQE39nKqCZ"
      },
      "execution_count": null,
      "outputs": []
    },
    {
      "cell_type": "code",
      "source": [
        "df.tail()"
      ],
      "metadata": {
        "id": "3gcJs-HnLXq5"
      },
      "execution_count": null,
      "outputs": []
    },
    {
      "cell_type": "markdown",
      "source": [
        "**Why should time series be stationary?**\n",
        "\n",
        "Stationary series is easier for statistical models to predict effectively and precisely."
      ],
      "metadata": {
        "id": "LuzQjXhnL3N_"
      }
    },
    {
      "cell_type": "markdown",
      "source": [
        "1. Comment on the nature of the data using suitable\n",
        "visualization techniques"
      ],
      "metadata": {
        "id": "typfW_5KMK1p"
      }
    },
    {
      "cell_type": "markdown",
      "source": [
        "How to check stationarity?\n",
        "\n",
        "**Visualizations**\n",
        "\n",
        "The most basic methods for stationarity detection rely on plotting the data, and visually checking for trend and seasonal components."
      ],
      "metadata": {
        "id": "Yme6ZfWKMUw_"
      }
    },
    {
      "cell_type": "code",
      "source": [
        "# Load the libraries\n",
        "import numpy as np\n",
        "import pandas as pd\n",
        "# Load Statsmodels \n",
        "import statsmodels.api as sm\n",
        "# Load Matplotlib for visualization\n",
        "import matplotlib.pyplot as plt\n",
        "%matplotlib inline"
      ],
      "metadata": {
        "id": "n2JCHYhFNhuf"
      },
      "execution_count": null,
      "outputs": []
    },
    {
      "cell_type": "code",
      "source": [
        "# Check the dimensionality of the dataset\n",
        "df.shape"
      ],
      "metadata": {
        "id": "1oZPC_lwNq2B"
      },
      "execution_count": null,
      "outputs": []
    },
    {
      "cell_type": "code",
      "source": [
        "df.head()"
      ],
      "metadata": {
        "id": "4eNwoyu6WPgY"
      },
      "execution_count": null,
      "outputs": []
    },
    {
      "cell_type": "code",
      "source": [
        "print(\"Dataset has {} records and {} columns\".format(df.shape[0], df.shape[1]))"
      ],
      "metadata": {
        "id": "KuJV_JR7Nwxn"
      },
      "execution_count": null,
      "outputs": []
    },
    {
      "cell_type": "code",
      "source": [
        "plt.figure(figsize=(8,8))\n",
        "df.plot()\n",
        "plt.ylabel('Production', color='red')\n",
        "plt.title('Milk Production (Monthly data)', color='purple')\n",
        "plt.grid(True)\n",
        "plt.show()"
      ],
      "metadata": {
        "id": "4OwKDy0NXs1Y"
      },
      "execution_count": null,
      "outputs": []
    },
    {
      "cell_type": "markdown",
      "source": [
        "**Time-Series ::**\n",
        "\n",
        "A time series is a series of measurements on the same variable collected over time. These measurements are made at regular time intervals.A time series is a series of data points indexed in time order. Most commonly, a time series is a sequence taken at successive equally spaced points in time. Thus it is a sequence of discrete-time data."
      ],
      "metadata": {
        "id": "-r0t9tOvwhwQ"
      }
    },
    {
      "cell_type": "code",
      "source": [
        "timeseries = df['Production']"
      ],
      "metadata": {
        "id": "WGZBTXTF1zpa"
      },
      "execution_count": null,
      "outputs": []
    },
    {
      "cell_type": "code",
      "source": [
        "timeseries.rolling(12).mean().plot(label='12 Month Rolling Mean')\n",
        "timeseries.rolling(12).std().plot(label='12 Month Rolling Std')\n",
        "timeseries.plot(figsize = (12,8))\n",
        "plt.legend()"
      ],
      "metadata": {
        "id": "xS5WFiED2D1_"
      },
      "execution_count": null,
      "outputs": []
    },
    {
      "cell_type": "markdown",
      "source": [
        "**Time-Series Prediction ::**\n",
        "\n",
        "Here we are predicting historical data of past 15 years of Milk Production.\n",
        "\n",
        "We can see above clearly through graph Production continuously increasing."
      ],
      "metadata": {
        "id": "4hOXrwqNxUJw"
      }
    },
    {
      "cell_type": "code",
      "source": [
        "timeseries.rolling(12).mean().plot(label='12 Month Rolling Mean')\n",
        "timeseries.plot(figsize = (12,8))\n",
        "plt.legend();"
      ],
      "metadata": {
        "id": "4-9-4dMi2Rjg"
      },
      "execution_count": null,
      "outputs": []
    },
    {
      "cell_type": "markdown",
      "source": [],
      "metadata": {
        "id": "EXle2gNw2fB_"
      }
    },
    {
      "cell_type": "code",
      "source": [
        "from statsmodels.tsa.seasonal import seasonal_decompose\n",
        "decomposition = seasonal_decompose(df['Production'], freq=12)  \n",
        "fig = plt.figure()  \n",
        "fig = decomposition.plot()  \n",
        "fig.set_size_inches(15, 8)"
      ],
      "metadata": {
        "id": "W-LQDYVg2fd3"
      },
      "execution_count": null,
      "outputs": []
    },
    {
      "cell_type": "markdown",
      "source": [
        "**Note::** We have used only one variable here , MilkProduction (the MilkProduction of the past 15 years).\n",
        "\n",
        "Hence this is called as the Univariate Time Series Analysis/Forecasting."
      ],
      "metadata": {
        "id": "iCG19y-1ySdY"
      }
    },
    {
      "cell_type": "markdown",
      "source": [
        "2. Check the stationary using ADF test\n",
        "and autocorrelation plot.\n"
      ],
      "metadata": {
        "id": "iwnDN0ZhNCPa"
      }
    },
    {
      "cell_type": "markdown",
      "source": [
        "# Testing for Stationarity\n",
        "# We can use the Augmented Dickey-Fuller unit root test."
      ],
      "metadata": {
        "id": "qEW7fNTV2wuv"
      }
    },
    {
      "cell_type": "code",
      "source": [
        "from statsmodels.tsa.stattools import adfuller"
      ],
      "metadata": {
        "id": "VnyxUxQW21h5"
      },
      "execution_count": null,
      "outputs": []
    },
    {
      "cell_type": "code",
      "source": [
        "result = adfuller(df['Production'])"
      ],
      "metadata": {
        "id": "NtNEnBNj24o5"
      },
      "execution_count": null,
      "outputs": []
    },
    {
      "cell_type": "code",
      "source": [
        "result"
      ],
      "metadata": {
        "id": "SJ_G7dzv0K3h"
      },
      "execution_count": null,
      "outputs": []
    },
    {
      "cell_type": "code",
      "source": [
        "df.set_index('Date',inplace=True)"
      ],
      "metadata": {
        "id": "gmJ794m01CO4"
      },
      "execution_count": null,
      "outputs": []
    },
    {
      "cell_type": "code",
      "source": [
        "print('Augmented Dickey-Fuller Test:')\n",
        "labels = ['ADF Test Statistic','p-value','#Lags Used','Number of Observations Used']\n",
        "\n",
        "for value,label in zip(result,labels):\n",
        "    print(label+' : '+str(value) )\n",
        "    \n",
        "if result[1] <= 0.05:\n",
        "    print(\"strong evidence against the null hypothesis, reject the null hypothesis. Data has no unit root and is stationary\")\n",
        "else:\n",
        "   print(\"weak evidence against null hypothesis, time series has a unit root, indicating it is non-stationary \")"
      ],
      "metadata": {
        "id": "lYJYl23D3PFh"
      },
      "execution_count": null,
      "outputs": []
    },
    {
      "cell_type": "code",
      "source": [
        "# Store in a function!\n",
        "def adf_check(time_series):\n",
        "    \"\"\"\n",
        "    Pass in a time series, returns ADF report\n",
        "    \"\"\"\n",
        "    result = adfuller(time_series)\n",
        "    print('Augmented Dickey-Fuller Test:')\n",
        "    labels = ['ADF Test Statistic','p-value','#Lags Used','Number of Observations Used']\n",
        "    for value,label in zip(result,labels):\n",
        "\n",
        "      print(label+' : '+str(value) )\n",
        "    \n",
        "    if result[1] <= 0.05:\n",
        "        print(\"strong evidence against the null hypothesis, reject the null hypothesis. Data has no unit root and is stationary\")\n",
        "    else:\n",
        "        print(\"weak evidence against null hypothesis, time series has a unit root, indicating it is non-stationary \")"
      ],
      "metadata": {
        "id": "xERlomsj3Zf_"
      },
      "execution_count": null,
      "outputs": []
    },
    {
      "cell_type": "markdown",
      "source": [
        "#So afterthat now we realized that our data is seasonal (it is also pretty obvious from the plot itself). \n",
        "# This means we need to use Seasonal ARIMA on our model. If our data was not seasonal, it means we could use just ARIMA on it."
      ],
      "metadata": {
        "id": "OuWmWyCQ3lZi"
      }
    },
    {
      "cell_type": "code",
      "source": [
        "# First Difference\n",
        "df['Production First Difference'] = df['Production'] - df['Production'].shift(1)"
      ],
      "metadata": {
        "id": "j3l4rf0O35Vx"
      },
      "execution_count": null,
      "outputs": []
    },
    {
      "cell_type": "code",
      "source": [
        "adf_check(df['Production First Difference'].dropna())"
      ],
      "metadata": {
        "id": "IRtCorDy4O7f"
      },
      "execution_count": null,
      "outputs": []
    },
    {
      "cell_type": "code",
      "source": [
        "df['Production First Difference'].plot()"
      ],
      "metadata": {
        "id": "pp8COeRv4iqa"
      },
      "execution_count": null,
      "outputs": []
    },
    {
      "cell_type": "code",
      "source": [
        "# Second Difference\n",
        "# Sometimes it would be necessary to do a second difference \n",
        "# This is just for show, we didn't need to do a second difference in our case\n",
        "df['Production Second Difference'] = df['Production First Difference'] - df['Production First Difference'].shift(12)"
      ],
      "metadata": {
        "id": "vbCgnaPK4rQY"
      },
      "execution_count": null,
      "outputs": []
    },
    {
      "cell_type": "code",
      "source": [
        "adf_check(df['Production Second Difference'].dropna())"
      ],
      "metadata": {
        "id": "xaQtIeDv43jC"
      },
      "execution_count": null,
      "outputs": []
    },
    {
      "cell_type": "code",
      "source": [
        "df['Production Second Difference'].plot()"
      ],
      "metadata": {
        "id": "YhvemxUr5Kba"
      },
      "execution_count": null,
      "outputs": []
    },
    {
      "cell_type": "markdown",
      "source": [
        "Seasonal Difference"
      ],
      "metadata": {
        "id": "1sSd7q345UzY"
      }
    },
    {
      "cell_type": "code",
      "source": [
        "df['Seasonal Difference'] = df['Production']-df['Production'].shift(12)\n",
        "df['Seasonal Difference'].plot()"
      ],
      "metadata": {
        "id": "jmnkmMZB5XnJ"
      },
      "execution_count": null,
      "outputs": []
    },
    {
      "cell_type": "markdown",
      "source": [
        "# Seasonal Difference by itself was not enough!"
      ],
      "metadata": {
        "id": "d7mX0aeo6ElJ"
      }
    },
    {
      "cell_type": "code",
      "source": [
        "# Seasonal Difference by itself was not enough!\n",
        "adf_check(df['Seasonal Difference'].dropna())"
      ],
      "metadata": {
        "id": "XQoPMAqY6CxW"
      },
      "execution_count": null,
      "outputs": []
    },
    {
      "cell_type": "code",
      "source": [
        "df['Seasonal First Difference'] = df['Production First Difference'] - df['Production First Difference'].shift(12)"
      ],
      "metadata": {
        "id": "1tJ4XQ5u6UGA"
      },
      "execution_count": null,
      "outputs": []
    },
    {
      "cell_type": "code",
      "source": [
        "df['Seasonal First Difference'].plot()"
      ],
      "metadata": {
        "id": "fgb3fUJB6ibf"
      },
      "execution_count": null,
      "outputs": []
    },
    {
      "cell_type": "code",
      "source": [
        "adf_check(df['Seasonal First Difference'].dropna())"
      ],
      "metadata": {
        "id": "uYcyvcgM6nHx"
      },
      "execution_count": null,
      "outputs": []
    },
    {
      "cell_type": "markdown",
      "source": [
        "# Autocorrelation and Partial Autocorrelation Plots"
      ],
      "metadata": {
        "id": "IpD5eRwa6t0n"
      }
    },
    {
      "cell_type": "code",
      "source": [
        "from statsmodels.graphics.tsaplots import plot_acf,plot_pacf"
      ],
      "metadata": {
        "id": "7z6Gio2V6uZ_"
      },
      "execution_count": null,
      "outputs": []
    },
    {
      "cell_type": "code",
      "source": [
        "fig_prod_first = plot_acf(df['Production First Difference'].dropna())"
      ],
      "metadata": {
        "id": "G88r70oc61th"
      },
      "execution_count": null,
      "outputs": []
    },
    {
      "cell_type": "code",
      "source": [
        "fig_seasonal_first = plot_acf(df['Seasonal First Difference'].dropna())"
      ],
      "metadata": {
        "id": "QgaWHtQj7QwS"
      },
      "execution_count": null,
      "outputs": []
    },
    {
      "cell_type": "code",
      "source": [
        " #Pandas also has this functionality built in, but only for ACF, not PACF.\n",
        "from pandas.plotting import autocorrelation_plot"
      ],
      "metadata": {
        "id": "UuUBMHnk7oAJ"
      },
      "execution_count": null,
      "outputs": []
    },
    {
      "cell_type": "code",
      "source": [
        "autocorrelation_plot(df['Seasonal First Difference'].dropna())"
      ],
      "metadata": {
        "id": "G5BIWdt57sL_"
      },
      "execution_count": null,
      "outputs": []
    },
    {
      "cell_type": "markdown",
      "source": [
        "# Partial Autocorrelation"
      ],
      "metadata": {
        "id": "l8EbZCXk75Fv"
      }
    },
    {
      "cell_type": "code",
      "source": [
        "result=plot_acf(df['Seasonal First Difference'].dropna())"
      ],
      "metadata": {
        "id": "--GX5L3F75i_"
      },
      "execution_count": null,
      "outputs": []
    },
    {
      "cell_type": "markdown",
      "source": [
        "# Final ACF and PACF Plots"
      ],
      "metadata": {
        "id": "4cDwrzey8E4A"
      }
    },
    {
      "cell_type": "code",
      "source": [
        "fig = plt.figure(figsize=(12,8))\n",
        "ax1 = fig.add_subplot(211)\n",
        "fig = sm.graphics.tsa.plot_acf(df['Seasonal First Difference'].iloc[13:], lags=40, ax=ax1)\n",
        "ax2 = fig.add_subplot(212)\n",
        "fig = sm.graphics.tsa.plot_pacf(df['Seasonal First Difference'].iloc[13:], lags=40, ax=ax2)"
      ],
      "metadata": {
        "id": "xpeshn7a8FUY"
      },
      "execution_count": null,
      "outputs": []
    },
    {
      "cell_type": "markdown",
      "source": [
        "# Using the Seasonal ARIMA model"
      ],
      "metadata": {
        "id": "9lsU84Cm8N2q"
      }
    },
    {
      "cell_type": "code",
      "source": [
        " #For non-seasonal data\n",
        "from statsmodels.tsa.arima_model import ARIMA"
      ],
      "metadata": {
        "id": "Z3PVEYec8Qia"
      },
      "execution_count": null,
      "outputs": []
    },
    {
      "cell_type": "code",
      "source": [
        "# We have seasonal data!\n",
        "model = sm.tsa.statespace.SARIMAX(df['Production'],order=(0,1,0), seasonal_order=(1,1,1,12))\n",
        "results = model.fit()\n",
        "print(results.summary())"
      ],
      "metadata": {
        "id": "RiVtoJYO8U_x"
      },
      "execution_count": null,
      "outputs": []
    },
    {
      "cell_type": "code",
      "source": [
        "results.resid.plot()"
      ],
      "metadata": {
        "id": "eCa1tCrk8cCx"
      },
      "execution_count": null,
      "outputs": []
    },
    {
      "cell_type": "code",
      "source": [
        "results.resid.plot(kind='kde')"
      ],
      "metadata": {
        "id": "zymPcYUR8esM"
      },
      "execution_count": null,
      "outputs": []
    },
    {
      "cell_type": "code",
      "source": [
        "df.head()"
      ],
      "metadata": {
        "id": "Sky2q58u8qgx"
      },
      "execution_count": null,
      "outputs": []
    },
    {
      "cell_type": "markdown",
      "source": [
        "# Prediction of Future Values"
      ],
      "metadata": {
        "id": "dKL84o6N8iDA"
      }
    },
    {
      "cell_type": "code",
      "source": [
        "df['forecast'] = results.predict(start = 150, end= 168, dynamic= True)  \n",
        "df[['Production','forecast']].plot(figsize=(12,8))"
      ],
      "metadata": {
        "id": "d7wt9QQ18o9h"
      },
      "execution_count": null,
      "outputs": []
    },
    {
      "cell_type": "code",
      "source": [
        "df['forecast'] = results.predict(start = 168, end = 188, dynamic= True)  \n",
        "df[['Production', 'forecast']].plot(figsize=(12, 8)) "
      ],
      "metadata": {
        "id": "mHmtex4L9h0Z"
      },
      "execution_count": null,
      "outputs": []
    }
  ]
}